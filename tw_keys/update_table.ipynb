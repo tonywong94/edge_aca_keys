{
 "cells": [
  {
   "cell_type": "code",
   "execution_count": 1,
   "id": "ruled-biodiversity",
   "metadata": {},
   "outputs": [],
   "source": [
    "from astropy.table import Table, join"
   ]
  },
  {
   "cell_type": "code",
   "execution_count": 2,
   "id": "logical-supervision",
   "metadata": {},
   "outputs": [],
   "source": [
    "newvel = Table.read('../ewr/target_definitions_new.txt', format='ascii.no_header', delimiter=' ')"
   ]
  },
  {
   "cell_type": "code",
   "execution_count": 3,
   "id": "bulgarian-manufacturer",
   "metadata": {},
   "outputs": [],
   "source": [
    "newvel.keep_columns(['col1','col4'])"
   ]
  },
  {
   "cell_type": "code",
   "execution_count": 4,
   "id": "welsh-birth",
   "metadata": {},
   "outputs": [
    {
     "data": {
      "text/html": [
       "<i>Table length=144</i>\n",
       "<table id=\"table4354098064\" class=\"table-striped table-bordered table-condensed\">\n",
       "<thead><tr><th>col1</th><th>col4</th></tr></thead>\n",
       "<thead><tr><th>str13</th><th>float64</th></tr></thead>\n",
       "<tr><td>CGCG429-012</td><td>5238.021</td></tr>\n",
       "<tr><td>IC1079</td><td>8719.539</td></tr>\n",
       "<tr><td>IC1528</td><td>3751.785</td></tr>\n",
       "<tr><td>IC1755</td><td>7846.101</td></tr>\n",
       "<tr><td>IC2101</td><td>4488.951</td></tr>\n",
       "<tr><td>IC2341</td><td>5085.081</td></tr>\n",
       "<tr><td>IC3598</td><td>7640.931</td></tr>\n",
       "<tr><td>IC5309</td><td>4060.047</td></tr>\n",
       "<tr><td>MCG-01-01-012</td><td>5648.637</td></tr>\n",
       "<tr><td>MCG-01-09-006</td><td>8670.108</td></tr>\n",
       "<tr><td>...</td><td>...</td></tr>\n",
       "<tr><td>UGC12250</td><td>7196.478</td></tr>\n",
       "<tr><td>UGC12274</td><td>7622.118</td></tr>\n",
       "<tr><td>UGC12348</td><td>7529.025</td></tr>\n",
       "<tr><td>UGC12518</td><td>3801.894</td></tr>\n",
       "<tr><td>UGC12519</td><td>4351.527</td></tr>\n",
       "<tr><td>UGC12633</td><td>4147.023</td></tr>\n",
       "<tr><td>UGC12688</td><td>5304.654</td></tr>\n",
       "<tr><td>UGC12810</td><td>8066.853</td></tr>\n",
       "<tr><td>UGC12816</td><td>5301.165</td></tr>\n",
       "<tr><td>VV488NED02</td><td>4896.729</td></tr>\n",
       "</table>"
      ],
      "text/plain": [
       "<Table length=144>\n",
       "     col1       col4  \n",
       "    str13     float64 \n",
       "------------- --------\n",
       "  CGCG429-012 5238.021\n",
       "       IC1079 8719.539\n",
       "       IC1528 3751.785\n",
       "       IC1755 7846.101\n",
       "       IC2101 4488.951\n",
       "       IC2341 5085.081\n",
       "       IC3598 7640.931\n",
       "       IC5309 4060.047\n",
       "MCG-01-01-012 5648.637\n",
       "MCG-01-09-006 8670.108\n",
       "          ...      ...\n",
       "     UGC12250 7196.478\n",
       "     UGC12274 7622.118\n",
       "     UGC12348 7529.025\n",
       "     UGC12518 3801.894\n",
       "     UGC12519 4351.527\n",
       "     UGC12633 4147.023\n",
       "     UGC12688 5304.654\n",
       "     UGC12810 8066.853\n",
       "     UGC12816 5301.165\n",
       "   VV488NED02 4896.729"
      ]
     },
     "execution_count": 4,
     "metadata": {},
     "output_type": "execute_result"
    }
   ],
   "source": [
    "newvel"
   ]
  },
  {
   "cell_type": "code",
   "execution_count": 5,
   "id": "round-technique",
   "metadata": {},
   "outputs": [],
   "source": [
    "oldvel = Table.read('target_definitions.txt', format='ascii.no_header', delimiter=' ')"
   ]
  },
  {
   "cell_type": "code",
   "execution_count": 6,
   "id": "first-mapping",
   "metadata": {},
   "outputs": [
    {
     "data": {
      "text/html": [
       "<i>Table length=60</i>\n",
       "<table id=\"table4976594512\" class=\"table-striped table-bordered table-condensed\">\n",
       "<thead><tr><th>col1</th><th>col2</th><th>col3</th><th>col4</th><th>col5</th></tr></thead>\n",
       "<thead><tr><th>str13</th><th>str14</th><th>str15</th><th>float64</th><th>int64</th></tr></thead>\n",
       "<tr><td>CGCG429-012</td><td>22h36m49.8417s</td><td>+14d23m13.1957s</td><td>5139.41670894</td><td>800</td></tr>\n",
       "<tr><td>IC1079</td><td>14h56m36.1387s</td><td>+09d22m11.2562s</td><td>8458.91446537</td><td>800</td></tr>\n",
       "<tr><td>IC1528</td><td>00h05m05.35s</td><td>-07d05m36.3064s</td><td>3699.17033811</td><td>800</td></tr>\n",
       "<tr><td>IC2341</td><td>08h23m41.4314s</td><td>+21d26m05.5759s</td><td>4991.85693991</td><td>800</td></tr>\n",
       "<tr><td>MCG-01-01-012</td><td>23h59m10.7704s</td><td>-04d11m29.4954s</td><td>5534.85730873</td><td>800</td></tr>\n",
       "<tr><td>MCG-01-10-015</td><td>03h38m39.1243s</td><td>-05d20m50.4581s</td><td>3968.07947238</td><td>800</td></tr>\n",
       "<tr><td>MCG-01-52-012</td><td>20h37m49.9714s</td><td>-06d05m26.7689s</td><td>3757.10190848</td><td>800</td></tr>\n",
       "<tr><td>MCG-02-02-030</td><td>00h30m07.3372s</td><td>-11d06m49.0661s</td><td>3489.07527462</td><td>800</td></tr>\n",
       "<tr><td>MCG-02-51-004</td><td>20h15m39.8794s</td><td>-13d37m19.7469s</td><td>5514.65054388</td><td>800</td></tr>\n",
       "<tr><td>NGC0001</td><td>00h07m15.8483s</td><td>+27d42m29.7365s</td><td>4415.15225135</td><td>800</td></tr>\n",
       "<tr><td>...</td><td>...</td><td>...</td><td>...</td><td>...</td></tr>\n",
       "<tr><td>UGC11680NED02</td><td>21h07m45.8361s</td><td>+03d52m40.4732s</td><td>7632.90623997</td><td>800</td></tr>\n",
       "<tr><td>UGC11717</td><td>21h18m35.4363s</td><td>+19d43m07.3895s</td><td>6141.34581497</td><td>800</td></tr>\n",
       "<tr><td>UGC11792</td><td>21h42m12.705s</td><td>+05d36m53.958s</td><td>4676.84154035</td><td>800</td></tr>\n",
       "<tr><td>UGC11958</td><td>22h14m46.8726s</td><td>+13d50m27.2234s</td><td>7638.97280785</td><td>800</td></tr>\n",
       "<tr><td>UGC11982</td><td>22h18m52.6335s</td><td>-01d03m30.3307s</td><td>4581.8973517</td><td>800</td></tr>\n",
       "<tr><td>UGC12224</td><td>22h52m38.3508s</td><td>+06d05m37.8184s</td><td>3423.52855585</td><td>800</td></tr>\n",
       "<tr><td>UGC12250</td><td>22h55m35.8948s</td><td>+12d47m24.9993s</td><td>7015.99055825</td><td>800</td></tr>\n",
       "<tr><td>UGC12274</td><td>22h58m19.5962s</td><td>+26d03m43.3584s</td><td>7420.6737113</td><td>800</td></tr>\n",
       "<tr><td>UGC12348</td><td>23h05m18.4296s</td><td>+00d11m28.3191s</td><td>7332.25995595</td><td>800</td></tr>\n",
       "<tr><td>VV488NED02</td><td>22h56m50.8192s</td><td>-08d58m03.5889s</td><td>4809.92750063</td><td>800</td></tr>\n",
       "</table>"
      ],
      "text/plain": [
       "<Table length=60>\n",
       "     col1          col2            col3           col4      col5\n",
       "    str13         str14           str15         float64    int64\n",
       "------------- -------------- --------------- ------------- -----\n",
       "  CGCG429-012 22h36m49.8417s +14d23m13.1957s 5139.41670894   800\n",
       "       IC1079 14h56m36.1387s +09d22m11.2562s 8458.91446537   800\n",
       "       IC1528   00h05m05.35s -07d05m36.3064s 3699.17033811   800\n",
       "       IC2341 08h23m41.4314s +21d26m05.5759s 4991.85693991   800\n",
       "MCG-01-01-012 23h59m10.7704s -04d11m29.4954s 5534.85730873   800\n",
       "MCG-01-10-015 03h38m39.1243s -05d20m50.4581s 3968.07947238   800\n",
       "MCG-01-52-012 20h37m49.9714s -06d05m26.7689s 3757.10190848   800\n",
       "MCG-02-02-030 00h30m07.3372s -11d06m49.0661s 3489.07527462   800\n",
       "MCG-02-51-004 20h15m39.8794s -13d37m19.7469s 5514.65054388   800\n",
       "      NGC0001 00h07m15.8483s +27d42m29.7365s 4415.15225135   800\n",
       "          ...            ...             ...           ...   ...\n",
       "UGC11680NED02 21h07m45.8361s +03d52m40.4732s 7632.90623997   800\n",
       "     UGC11717 21h18m35.4363s +19d43m07.3895s 6141.34581497   800\n",
       "     UGC11792  21h42m12.705s  +05d36m53.958s 4676.84154035   800\n",
       "     UGC11958 22h14m46.8726s +13d50m27.2234s 7638.97280785   800\n",
       "     UGC11982 22h18m52.6335s -01d03m30.3307s  4581.8973517   800\n",
       "     UGC12224 22h52m38.3508s +06d05m37.8184s 3423.52855585   800\n",
       "     UGC12250 22h55m35.8948s +12d47m24.9993s 7015.99055825   800\n",
       "     UGC12274 22h58m19.5962s +26d03m43.3584s  7420.6737113   800\n",
       "     UGC12348 23h05m18.4296s +00d11m28.3191s 7332.25995595   800\n",
       "   VV488NED02 22h56m50.8192s -08d58m03.5889s 4809.92750063   800"
      ]
     },
     "execution_count": 6,
     "metadata": {},
     "output_type": "execute_result"
    }
   ],
   "source": [
    "oldvel"
   ]
  },
  {
   "cell_type": "code",
   "execution_count": 7,
   "id": "norman-jenny",
   "metadata": {},
   "outputs": [],
   "source": [
    "newtab=join(oldvel,newvel,keys='col1')"
   ]
  },
  {
   "cell_type": "code",
   "execution_count": 8,
   "id": "devoted-biodiversity",
   "metadata": {},
   "outputs": [
    {
     "data": {
      "text/html": [
       "<i>Table length=60</i>\n",
       "<table id=\"table4976477776\" class=\"table-striped table-bordered table-condensed\">\n",
       "<thead><tr><th>col1</th><th>col2</th><th>col3</th><th>col4_1</th><th>col5</th><th>col4_2</th></tr></thead>\n",
       "<thead><tr><th>str13</th><th>str14</th><th>str15</th><th>float64</th><th>int64</th><th>float64</th></tr></thead>\n",
       "<tr><td>CGCG429-012</td><td>22h36m49.8417s</td><td>+14d23m13.1957s</td><td>5139.41670894</td><td>800</td><td>5238.021</td></tr>\n",
       "<tr><td>IC1079</td><td>14h56m36.1387s</td><td>+09d22m11.2562s</td><td>8458.91446537</td><td>800</td><td>8719.539</td></tr>\n",
       "<tr><td>IC1528</td><td>00h05m05.35s</td><td>-07d05m36.3064s</td><td>3699.17033811</td><td>800</td><td>3751.785</td></tr>\n",
       "<tr><td>IC2341</td><td>08h23m41.4314s</td><td>+21d26m05.5759s</td><td>4991.85693991</td><td>800</td><td>5085.081</td></tr>\n",
       "<tr><td>MCG-01-01-012</td><td>23h59m10.7704s</td><td>-04d11m29.4954s</td><td>5534.85730873</td><td>800</td><td>5648.637</td></tr>\n",
       "<tr><td>MCG-01-10-015</td><td>03h38m39.1243s</td><td>-05d20m50.4581s</td><td>3968.07947238</td><td>800</td><td>4028.181</td></tr>\n",
       "<tr><td>MCG-01-52-012</td><td>20h37m49.9714s</td><td>-06d05m26.7689s</td><td>3757.10190848</td><td>800</td><td>3811.287</td></tr>\n",
       "<tr><td>MCG-02-02-030</td><td>00h30m07.3372s</td><td>-11d06m49.0661s</td><td>3489.07527462</td><td>800</td><td>3536.19</td></tr>\n",
       "<tr><td>MCG-02-51-004</td><td>20h15m39.8794s</td><td>-13d37m19.7469s</td><td>5514.65054388</td><td>800</td><td>5627.628</td></tr>\n",
       "<tr><td>NGC0001</td><td>00h07m15.8483s</td><td>+27d42m29.7365s</td><td>4415.15225135</td><td>800</td><td>4488.816</td></tr>\n",
       "<tr><td>...</td><td>...</td><td>...</td><td>...</td><td>...</td><td>...</td></tr>\n",
       "<tr><td>UGC11680NED02</td><td>21h07m45.8361s</td><td>+03d52m40.4732s</td><td>7632.90623997</td><td>800</td><td>7845.81</td></tr>\n",
       "<tr><td>UGC11717</td><td>21h18m35.4363s</td><td>+19d43m07.3895s</td><td>6141.34581497</td><td>800</td><td>6280.551</td></tr>\n",
       "<tr><td>UGC11792</td><td>21h42m12.705s</td><td>+05d36m53.958s</td><td>4676.84154035</td><td>800</td><td>4759.092</td></tr>\n",
       "<tr><td>UGC11958</td><td>22h14m46.8726s</td><td>+13d50m27.2234s</td><td>7638.97280785</td><td>800</td><td>7852.212</td></tr>\n",
       "<tr><td>UGC11982</td><td>22h18m52.6335s</td><td>-01d03m30.3307s</td><td>4581.8973517</td><td>800</td><td>4660.977</td></tr>\n",
       "<tr><td>UGC12224</td><td>22h52m38.3508s</td><td>+06d05m37.8184s</td><td>3423.52855585</td><td>800</td><td>3468.99</td></tr>\n",
       "<tr><td>UGC12250</td><td>22h55m35.8948s</td><td>+12d47m24.9993s</td><td>7015.99055825</td><td>800</td><td>7196.478</td></tr>\n",
       "<tr><td>UGC12274</td><td>22h58m19.5962s</td><td>+26d03m43.3584s</td><td>7420.6737113</td><td>800</td><td>7622.118</td></tr>\n",
       "<tr><td>UGC12348</td><td>23h05m18.4296s</td><td>+00d11m28.3191s</td><td>7332.25995595</td><td>800</td><td>7529.025</td></tr>\n",
       "<tr><td>VV488NED02</td><td>22h56m50.8192s</td><td>-08d58m03.5889s</td><td>4809.92750063</td><td>800</td><td>4896.729</td></tr>\n",
       "</table>"
      ],
      "text/plain": [
       "<Table length=60>\n",
       "     col1          col2            col3          col4_1     col5  col4_2 \n",
       "    str13         str14           str15         float64    int64 float64 \n",
       "------------- -------------- --------------- ------------- ----- --------\n",
       "  CGCG429-012 22h36m49.8417s +14d23m13.1957s 5139.41670894   800 5238.021\n",
       "       IC1079 14h56m36.1387s +09d22m11.2562s 8458.91446537   800 8719.539\n",
       "       IC1528   00h05m05.35s -07d05m36.3064s 3699.17033811   800 3751.785\n",
       "       IC2341 08h23m41.4314s +21d26m05.5759s 4991.85693991   800 5085.081\n",
       "MCG-01-01-012 23h59m10.7704s -04d11m29.4954s 5534.85730873   800 5648.637\n",
       "MCG-01-10-015 03h38m39.1243s -05d20m50.4581s 3968.07947238   800 4028.181\n",
       "MCG-01-52-012 20h37m49.9714s -06d05m26.7689s 3757.10190848   800 3811.287\n",
       "MCG-02-02-030 00h30m07.3372s -11d06m49.0661s 3489.07527462   800  3536.19\n",
       "MCG-02-51-004 20h15m39.8794s -13d37m19.7469s 5514.65054388   800 5627.628\n",
       "      NGC0001 00h07m15.8483s +27d42m29.7365s 4415.15225135   800 4488.816\n",
       "          ...            ...             ...           ...   ...      ...\n",
       "UGC11680NED02 21h07m45.8361s +03d52m40.4732s 7632.90623997   800  7845.81\n",
       "     UGC11717 21h18m35.4363s +19d43m07.3895s 6141.34581497   800 6280.551\n",
       "     UGC11792  21h42m12.705s  +05d36m53.958s 4676.84154035   800 4759.092\n",
       "     UGC11958 22h14m46.8726s +13d50m27.2234s 7638.97280785   800 7852.212\n",
       "     UGC11982 22h18m52.6335s -01d03m30.3307s  4581.8973517   800 4660.977\n",
       "     UGC12224 22h52m38.3508s +06d05m37.8184s 3423.52855585   800  3468.99\n",
       "     UGC12250 22h55m35.8948s +12d47m24.9993s 7015.99055825   800 7196.478\n",
       "     UGC12274 22h58m19.5962s +26d03m43.3584s  7420.6737113   800 7622.118\n",
       "     UGC12348 23h05m18.4296s +00d11m28.3191s 7332.25995595   800 7529.025\n",
       "   VV488NED02 22h56m50.8192s -08d58m03.5889s 4809.92750063   800 4896.729"
      ]
     },
     "execution_count": 8,
     "metadata": {},
     "output_type": "execute_result"
    }
   ],
   "source": [
    "newtab"
   ]
  },
  {
   "cell_type": "code",
   "execution_count": 9,
   "id": "brutal-beatles",
   "metadata": {},
   "outputs": [],
   "source": [
    "newtab['vrange'] = newtab['col5']*0+1000"
   ]
  },
  {
   "cell_type": "code",
   "execution_count": 10,
   "id": "detected-messenger",
   "metadata": {},
   "outputs": [],
   "source": [
    "output = Table([newtab['col1'],newtab['col2'],newtab['col3'],newtab['col4_2'],newtab['vrange']])"
   ]
  },
  {
   "cell_type": "code",
   "execution_count": 11,
   "id": "compound-fever",
   "metadata": {},
   "outputs": [
    {
     "data": {
      "text/html": [
       "<i>Table length=60</i>\n",
       "<table id=\"table4976593808\" class=\"table-striped table-bordered table-condensed\">\n",
       "<thead><tr><th>col1</th><th>col2</th><th>col3</th><th>col4_2</th><th>vrange</th></tr></thead>\n",
       "<thead><tr><th>str13</th><th>str14</th><th>str15</th><th>float64</th><th>int64</th></tr></thead>\n",
       "<tr><td>CGCG429-012</td><td>22h36m49.8417s</td><td>+14d23m13.1957s</td><td>5238.021</td><td>1000</td></tr>\n",
       "<tr><td>IC1079</td><td>14h56m36.1387s</td><td>+09d22m11.2562s</td><td>8719.539</td><td>1000</td></tr>\n",
       "<tr><td>IC1528</td><td>00h05m05.35s</td><td>-07d05m36.3064s</td><td>3751.785</td><td>1000</td></tr>\n",
       "<tr><td>IC2341</td><td>08h23m41.4314s</td><td>+21d26m05.5759s</td><td>5085.081</td><td>1000</td></tr>\n",
       "<tr><td>MCG-01-01-012</td><td>23h59m10.7704s</td><td>-04d11m29.4954s</td><td>5648.637</td><td>1000</td></tr>\n",
       "<tr><td>MCG-01-10-015</td><td>03h38m39.1243s</td><td>-05d20m50.4581s</td><td>4028.181</td><td>1000</td></tr>\n",
       "<tr><td>MCG-01-52-012</td><td>20h37m49.9714s</td><td>-06d05m26.7689s</td><td>3811.287</td><td>1000</td></tr>\n",
       "<tr><td>MCG-02-02-030</td><td>00h30m07.3372s</td><td>-11d06m49.0661s</td><td>3536.19</td><td>1000</td></tr>\n",
       "<tr><td>MCG-02-51-004</td><td>20h15m39.8794s</td><td>-13d37m19.7469s</td><td>5627.628</td><td>1000</td></tr>\n",
       "<tr><td>NGC0001</td><td>00h07m15.8483s</td><td>+27d42m29.7365s</td><td>4488.816</td><td>1000</td></tr>\n",
       "<tr><td>...</td><td>...</td><td>...</td><td>...</td><td>...</td></tr>\n",
       "<tr><td>UGC11680NED02</td><td>21h07m45.8361s</td><td>+03d52m40.4732s</td><td>7845.81</td><td>1000</td></tr>\n",
       "<tr><td>UGC11717</td><td>21h18m35.4363s</td><td>+19d43m07.3895s</td><td>6280.551</td><td>1000</td></tr>\n",
       "<tr><td>UGC11792</td><td>21h42m12.705s</td><td>+05d36m53.958s</td><td>4759.092</td><td>1000</td></tr>\n",
       "<tr><td>UGC11958</td><td>22h14m46.8726s</td><td>+13d50m27.2234s</td><td>7852.212</td><td>1000</td></tr>\n",
       "<tr><td>UGC11982</td><td>22h18m52.6335s</td><td>-01d03m30.3307s</td><td>4660.977</td><td>1000</td></tr>\n",
       "<tr><td>UGC12224</td><td>22h52m38.3508s</td><td>+06d05m37.8184s</td><td>3468.99</td><td>1000</td></tr>\n",
       "<tr><td>UGC12250</td><td>22h55m35.8948s</td><td>+12d47m24.9993s</td><td>7196.478</td><td>1000</td></tr>\n",
       "<tr><td>UGC12274</td><td>22h58m19.5962s</td><td>+26d03m43.3584s</td><td>7622.118</td><td>1000</td></tr>\n",
       "<tr><td>UGC12348</td><td>23h05m18.4296s</td><td>+00d11m28.3191s</td><td>7529.025</td><td>1000</td></tr>\n",
       "<tr><td>VV488NED02</td><td>22h56m50.8192s</td><td>-08d58m03.5889s</td><td>4896.729</td><td>1000</td></tr>\n",
       "</table>"
      ],
      "text/plain": [
       "<Table length=60>\n",
       "     col1          col2            col3       col4_2  vrange\n",
       "    str13         str14           str15      float64  int64 \n",
       "------------- -------------- --------------- -------- ------\n",
       "  CGCG429-012 22h36m49.8417s +14d23m13.1957s 5238.021   1000\n",
       "       IC1079 14h56m36.1387s +09d22m11.2562s 8719.539   1000\n",
       "       IC1528   00h05m05.35s -07d05m36.3064s 3751.785   1000\n",
       "       IC2341 08h23m41.4314s +21d26m05.5759s 5085.081   1000\n",
       "MCG-01-01-012 23h59m10.7704s -04d11m29.4954s 5648.637   1000\n",
       "MCG-01-10-015 03h38m39.1243s -05d20m50.4581s 4028.181   1000\n",
       "MCG-01-52-012 20h37m49.9714s -06d05m26.7689s 3811.287   1000\n",
       "MCG-02-02-030 00h30m07.3372s -11d06m49.0661s  3536.19   1000\n",
       "MCG-02-51-004 20h15m39.8794s -13d37m19.7469s 5627.628   1000\n",
       "      NGC0001 00h07m15.8483s +27d42m29.7365s 4488.816   1000\n",
       "          ...            ...             ...      ...    ...\n",
       "UGC11680NED02 21h07m45.8361s +03d52m40.4732s  7845.81   1000\n",
       "     UGC11717 21h18m35.4363s +19d43m07.3895s 6280.551   1000\n",
       "     UGC11792  21h42m12.705s  +05d36m53.958s 4759.092   1000\n",
       "     UGC11958 22h14m46.8726s +13d50m27.2234s 7852.212   1000\n",
       "     UGC11982 22h18m52.6335s -01d03m30.3307s 4660.977   1000\n",
       "     UGC12224 22h52m38.3508s +06d05m37.8184s  3468.99   1000\n",
       "     UGC12250 22h55m35.8948s +12d47m24.9993s 7196.478   1000\n",
       "     UGC12274 22h58m19.5962s +26d03m43.3584s 7622.118   1000\n",
       "     UGC12348 23h05m18.4296s +00d11m28.3191s 7529.025   1000\n",
       "   VV488NED02 22h56m50.8192s -08d58m03.5889s 4896.729   1000"
      ]
     },
     "execution_count": 11,
     "metadata": {},
     "output_type": "execute_result"
    }
   ],
   "source": [
    "output"
   ]
  },
  {
   "cell_type": "code",
   "execution_count": 12,
   "id": "rubber-level",
   "metadata": {},
   "outputs": [],
   "source": [
    "output.write('target_definitions_updated.txt',format='ascii.fixed_width_no_header',overwrite=True, delimiter=' ')"
   ]
  },
  {
   "cell_type": "code",
   "execution_count": null,
   "id": "acknowledged-sullivan",
   "metadata": {},
   "outputs": [],
   "source": []
  }
 ],
 "metadata": {
  "kernelspec": {
   "display_name": "Python 3",
   "language": "python",
   "name": "python3"
  },
  "language_info": {
   "codemirror_mode": {
    "name": "ipython",
    "version": 3
   },
   "file_extension": ".py",
   "mimetype": "text/x-python",
   "name": "python",
   "nbconvert_exporter": "python",
   "pygments_lexer": "ipython3",
   "version": "3.7.10"
  }
 },
 "nbformat": 4,
 "nbformat_minor": 5
}
